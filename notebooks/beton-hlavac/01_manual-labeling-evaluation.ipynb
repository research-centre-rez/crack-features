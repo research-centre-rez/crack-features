{
 "cells": [
  {
   "cell_type": "code",
   "execution_count": 7,
   "id": "initial_id",
   "metadata": {
    "ExecuteTime": {
     "end_time": "2024-08-26T13:36:57.744647Z",
     "start_time": "2024-08-26T13:36:57.561978Z"
    }
   },
   "outputs": [],
   "source": [
    "import os\n",
    "import imageio.v3 as iio\n",
    "from skimage.measure import label\n",
    "from skimage.morphology import medial_axis\n",
    "import numpy as np\n",
    "from skimage.segmentation import mark_boundaries\n",
    "import matplotlib.pyplot as plt"
   ]
  },
  {
   "cell_type": "code",
   "execution_count": 2,
   "id": "e7cd832477524b4e",
   "metadata": {
    "ExecuteTime": {
     "end_time": "2024-08-26T13:24:09.911321Z",
     "start_time": "2024-08-26T13:24:09.908625Z"
    }
   },
   "outputs": [],
   "source": [
    "ROOT = \"/Users/gimli/cvr/data/beton/labels/cvat-antoine\""
   ]
  },
  {
   "cell_type": "code",
   "execution_count": 20,
   "id": "a7ca4b1d12d198ec",
   "metadata": {
    "ExecuteTime": {
     "end_time": "2024-08-26T13:42:02.223661Z",
     "start_time": "2024-08-26T13:42:02.218777Z"
    }
   },
   "outputs": [],
   "source": [
    "def compute_stats(file_path):\n",
    "    segmented = iio.imread(file_path)[:,:,0] == 255\n",
    "    labeled = label(segmented)\n",
    "    \n",
    "    bounds = []\n",
    "    crack_images = []\n",
    "    skeletons = []\n",
    "    distances = []\n",
    "    boundaries = []\n",
    "    for l in range(1, np.max(labeled)):        \n",
    "        crack = np.zeros(segmented.shape, dtype=int)\n",
    "        crack[labeled == l] = 1    \n",
    "        skeleton, distance = medial_axis(crack, return_distance=True)\n",
    "        \n",
    "        marked = mark_boundaries(segmented, crack, outline_color=(0.5,0,0),mode=\"outer\")\n",
    "        boundary = np.where(marked[:,:,0] == 0.5)\n",
    "        bounds.append({\n",
    "            \"label\": l,\n",
    "            \"size\": np.sum(crack),\n",
    "            \"length\": np.sum(skeleton),\n",
    "            \"maxWidth\": np.max(distance),\n",
    "            \"avgWidth\": np.mean(distance[distance != 0]),\n",
    "            \"boundaryLength\": len(boundary[0])\n",
    "        })\n",
    "\n",
    "        skeletons.append((l, skeleton))\n",
    "        distances.append((l, distance))\n",
    "        boundaries.append((l, boundary))\n",
    "\n",
    "        crack_image = np.stack([segmented, segmented, segmented], axis=2)\n",
    "        crack_image[labeled==l, 0:2] = 0\n",
    "        crack_images.append((l, crack_image))\n",
    "    return labeled, skeletons, distances, boundaries, bounds, crack_images"
   ]
  },
  {
   "cell_type": "code",
   "execution_count": 21,
   "id": "9f5c24fca8756da",
   "metadata": {
    "ExecuteTime": {
     "end_time": "2024-08-26T13:49:32.190794Z",
     "start_time": "2024-08-26T13:43:13.766609Z"
    }
   },
   "outputs": [
    {
     "name": "stdout",
     "output_type": "stream",
     "text": [
      "Processing 3A-after_1.png\n",
      "Processing 3A-after_10.png\n",
      "Processing 3A-after_11.png\n",
      "Processing 3A-after_13.png\n",
      "Processing 3A-after_12.png\n",
      "Processing 1A-after_9.png\n",
      "Processing 1A-before_4.png\n",
      "Processing 1A-after_8.png\n",
      "Processing 1A-after_5.png\n",
      "Processing 1A-before_9.png\n",
      "Processing 1A-after_4.png\n",
      "Processing 1A-after_7.png\n",
      "Processing 1A-after_2.png\n",
      "Processing 1A-after_1.png\n",
      "Processing 1A-after_10.png\n",
      "Processing 1A-after_11.png\n",
      "Processing 3C-before_1.png\n",
      "Processing 3C-before_13.png\n",
      "Processing 3C-after_1.png\n",
      "Processing 3C-after_13.png\n",
      "Processing 1B_bot-1B_bot_after00.png\n",
      "Processing 1C-after_4.png\n",
      "Processing 1C-after_3.png\n",
      "Processing 1C-after_2.png\n",
      "Processing 1C-after_1.png\n",
      "Processing 1C-after_10.png\n",
      "Processing 1C-after_11.png\n",
      "Processing 1C-after_13.png\n",
      "Processing 1C-after_12.png\n",
      "Processing 1C-after_14.png\n"
     ]
    }
   ],
   "source": [
    "stats = {}\n",
    "for root, dirs, files in os.walk(ROOT):\n",
    "    for file in files:\n",
    "        if file.endswith(\".png\"):\n",
    "            dir = root.split(os.path.sep)[-1]\n",
    "            print(f\"Processing {dir}-{file}\")\n",
    "            stats[f\"{dir}-{file}\"] = compute_stats(os.path.join(root, file))            "
   ]
  },
  {
   "cell_type": "code",
   "execution_count": 39,
   "id": "30da3773-29d0-42d5-abbc-2260b8bfad10",
   "metadata": {},
   "outputs": [],
   "source": [
    "for stat_key in stats:    \n",
    "    sample = stat_key.split(\"-\")[0]\n",
    "    scan = stat_key.split(\"-\")[1][:-4]\n",
    "    for crack_id, image in stats[stat_key][-1]:\n",
    "        folder = os.path.join(\"/Users/gimli/Downloads/cracks-2/crack-maps\", sample, scan)\n",
    "        os.makedirs(folder, exist_ok=True)\n",
    "        iio.imwrite(os.path.join(\"/Users/gimli/Downloads/cracks-2/crack-maps\", sample, scan, f\"{crack_id:03d}-crack.png\"), \n",
    "                    cv2.cvtColor(image.astype(np.uint8)*255, cv2.COLOR_BGR2RGB))"
   ]
  },
  {
   "cell_type": "code",
   "execution_count": 35,
   "id": "2164208f-ee5a-4163-b38c-099c20540983",
   "metadata": {},
   "outputs": [],
   "source": [
    "import cv2"
   ]
  },
  {
   "cell_type": "code",
   "execution_count": 38,
   "id": "b609988c-4645-4401-9f27-518df24e0899",
   "metadata": {},
   "outputs": [
    {
     "data": {
      "image/png": "[encoded data removed]",
      "text/plain": [
       "<Figure size 640x480 with 1 Axes>"
      ]
     },
     "metadata": {},
     "output_type": "display_data"
    }
   ],
   "source": [
    "plt.imshow(cv2.cvtColor(stats[\"3A-after_1.png\"][-1][0][1].astype(np.uint8)*255, cv2.COLOR_BGR2RGB))\n",
    "plt.show()"
   ]
  },
  {
   "cell_type": "code",
   "execution_count": 18,
   "id": "da2af4fdfe0ca437",
   "metadata": {
    "ExecuteTime": {
     "end_time": "2024-08-26T14:01:03.928242Z",
     "start_time": "2024-08-26T14:01:03.670661Z"
    }
   },
   "outputs": [],
   "source": [
    "import pandas as pd"
   ]
  },
  {
   "cell_type": "code",
   "execution_count": 19,
   "id": "10b38a52cd0fb1d",
   "metadata": {
    "ExecuteTime": {
     "end_time": "2024-08-26T14:02:32.998501Z",
     "start_time": "2024-08-26T14:02:32.992155Z"
    }
   },
   "outputs": [
    {
     "data": {
      "text/html": [
       "<div>\n",
       "<style scoped>\n",
       "    .dataframe tbody tr th:only-of-type {\n",
       "        vertical-align: middle;\n",
       "    }\n",
       "\n",
       "    .dataframe tbody tr th {\n",
       "        vertical-align: top;\n",
       "    }\n",
       "\n",
       "    .dataframe thead th {\n",
       "        text-align: right;\n",
       "    }\n",
       "</style>\n",
       "<table border=\"1\" class=\"dataframe\">\n",
       "  <thead>\n",
       "    <tr style=\"text-align: right;\">\n",
       "      <th></th>\n",
       "      <th>label</th>\n",
       "      <th>size</th>\n",
       "      <th>length</th>\n",
       "      <th>maxWidth</th>\n",
       "      <th>avgWidth</th>\n",
       "      <th>boundaryLength</th>\n",
       "    </tr>\n",
       "  </thead>\n",
       "  <tbody>\n",
       "    <tr>\n",
       "      <th>0</th>\n",
       "      <td>1</td>\n",
       "      <td>2825</td>\n",
       "      <td>320</td>\n",
       "      <td>5.830952</td>\n",
       "      <td>2.457609</td>\n",
       "      <td>1902</td>\n",
       "    </tr>\n",
       "    <tr>\n",
       "      <th>1</th>\n",
       "      <td>2</td>\n",
       "      <td>2472</td>\n",
       "      <td>442</td>\n",
       "      <td>5.000000</td>\n",
       "      <td>2.063681</td>\n",
       "      <td>2042</td>\n",
       "    </tr>\n",
       "    <tr>\n",
       "      <th>2</th>\n",
       "      <td>3</td>\n",
       "      <td>1114</td>\n",
       "      <td>193</td>\n",
       "      <td>5.385165</td>\n",
       "      <td>2.319728</td>\n",
       "      <td>911</td>\n",
       "    </tr>\n",
       "    <tr>\n",
       "      <th>3</th>\n",
       "      <td>4</td>\n",
       "      <td>54</td>\n",
       "      <td>29</td>\n",
       "      <td>1.414214</td>\n",
       "      <td>1.038353</td>\n",
       "      <td>148</td>\n",
       "    </tr>\n",
       "    <tr>\n",
       "      <th>4</th>\n",
       "      <td>5</td>\n",
       "      <td>25912</td>\n",
       "      <td>2066</td>\n",
       "      <td>18.248288</td>\n",
       "      <td>3.701395</td>\n",
       "      <td>11194</td>\n",
       "    </tr>\n",
       "    <tr>\n",
       "      <th>5</th>\n",
       "      <td>6</td>\n",
       "      <td>168</td>\n",
       "      <td>62</td>\n",
       "      <td>2.236068</td>\n",
       "      <td>1.223011</td>\n",
       "      <td>381</td>\n",
       "    </tr>\n",
       "    <tr>\n",
       "      <th>6</th>\n",
       "      <td>7</td>\n",
       "      <td>359</td>\n",
       "      <td>64</td>\n",
       "      <td>3.605551</td>\n",
       "      <td>1.785735</td>\n",
       "      <td>405</td>\n",
       "    </tr>\n",
       "    <tr>\n",
       "      <th>7</th>\n",
       "      <td>8</td>\n",
       "      <td>4168</td>\n",
       "      <td>424</td>\n",
       "      <td>9.219544</td>\n",
       "      <td>3.097469</td>\n",
       "      <td>1984</td>\n",
       "    </tr>\n",
       "  </tbody>\n",
       "</table>\n",
       "</div>"
      ],
      "text/plain": [
       "   label   size  length   maxWidth  avgWidth  boundaryLength\n",
       "0      1   2825     320   5.830952  2.457609            1902\n",
       "1      2   2472     442   5.000000  2.063681            2042\n",
       "2      3   1114     193   5.385165  2.319728             911\n",
       "3      4     54      29   1.414214  1.038353             148\n",
       "4      5  25912    2066  18.248288  3.701395           11194\n",
       "5      6    168      62   2.236068  1.223011             381\n",
       "6      7    359      64   3.605551  1.785735             405\n",
       "7      8   4168     424   9.219544  3.097469            1984"
      ]
     },
     "execution_count": 19,
     "metadata": {},
     "output_type": "execute_result"
    }
   ],
   "source": []
  },
  {
   "cell_type": "code",
   "execution_count": 20,
   "id": "1c42f16e527588aa",
   "metadata": {
    "ExecuteTime": {
     "end_time": "2024-08-26T14:04:48.993966Z",
     "start_time": "2024-08-26T14:04:48.972564Z"
    }
   },
   "outputs": [],
   "source": [
    "for key in stats.keys():\n",
    "    os.makedirs(os.path.join(ROOT, \"stats\"), exist_ok=True)\n",
    "    pd.DataFrame(stats[key]).to_csv(f\"{ROOT}/stats/{key.split('.')[0]}.csv\")"
   ]
  },
  {
   "cell_type": "code",
   "execution_count": null,
   "id": "5dee4d17b757999e",
   "metadata": {},
   "outputs": [],
   "source": []
  }
 ],
 "metadata": {
  "kernelspec": {
   "display_name": "Python 3 (ipykernel)",
   "language": "python",
   "name": "python3"
  },
  "language_info": {
   "codemirror_mode": {
    "name": "ipython",
    "version": 3
   },
   "file_extension": ".py",
   "mimetype": "text/x-python",
   "name": "python",
   "nbconvert_exporter": "python",
   "pygments_lexer": "ipython3",
   "version": "3.10.14"
  }
 },
 "nbformat": 4,
 "nbformat_minor": 5
}
